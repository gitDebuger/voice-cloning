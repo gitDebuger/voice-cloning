{
 "cells": [
  {
   "cell_type": "code",
   "execution_count": 3,
   "id": "27e6b51e",
   "metadata": {},
   "outputs": [],
   "source": [
    "from http import HTTPStatus\n",
    "# dashscope sdk >= 1.22.1\n",
    "from dashscope import VideoSynthesis\n",
    "import dashscope\n",
    "\n",
    "dashscope.api_key = 'sk-3d290f3199b7407f8b4cd0e543ef8e8c'"
   ]
  },
  {
   "cell_type": "code",
   "execution_count": 5,
   "id": "87b58aab",
   "metadata": {},
   "outputs": [
    {
     "name": "stdout",
     "output_type": "stream",
     "text": [
      "{\"status_code\": 200, \"request_id\": \"c06bf025-62a9-9987-ab04-c118c8a70ecb\", \"code\": \"\", \"message\": \"\", \"output\": {\"task_id\": \"ae449a49-afcc-4d0c-9966-a21079955b60\", \"task_status\": \"PENDING\", \"video_url\": \"\"}, \"usage\": null}\n",
      "task_id: ae449a49-afcc-4d0c-9966-a21079955b60\n"
     ]
    }
   ],
   "source": [
    "rsp = VideoSynthesis.async_call(\n",
    "    model='wanx2.1-i2v-turbo',\n",
    "    prompt='女孩和图中的生物开心的互动',\n",
    "    img_url='https://upload-bbs.miyoushe.com/upload/2025/05/27/4849343/feaae88a0dfeb7ea51fbe650615135b2_8141013018134614633.jpg?x-oss-process=image/resize,s_600/quality,q_80/auto-orient,0/interlace,1/format,jpg',\n",
    ")\n",
    "print(rsp)\n",
    "if rsp.status_code == HTTPStatus.OK:\n",
    "    print('task_id:', rsp.output.task_id)\n",
    "else:\n",
    "    print('status_code:', rsp.status_code)\n",
    "    print('code:', rsp.code)\n",
    "    print('message:', rsp.message)"
   ]
  },
  {
   "cell_type": "code",
   "execution_count": 7,
   "id": "42b24e8f",
   "metadata": {},
   "outputs": [
    {
     "name": "stdout",
     "output_type": "stream",
     "text": [
      "SUCCEEDED\n"
     ]
    }
   ],
   "source": [
    "status = VideoSynthesis.fetch(rsp)\n",
    "if status.status_code == HTTPStatus.OK:\n",
    "    print(status.output.task_status)\n",
    "else:\n",
    "    print('status_code:', status.status_code)\n",
    "    print('code:', status.code)\n",
    "    print('message:', status.message)"
   ]
  },
  {
   "cell_type": "code",
   "execution_count": 8,
   "id": "b03e403f",
   "metadata": {},
   "outputs": [
    {
     "name": "stdout",
     "output_type": "stream",
     "text": [
      "https://dashscope-result-wlcb-acdr-1.oss-cn-wulanchabu-acdr-1.aliyuncs.com/1d/ac/20250527/e37ccdba/ae449a49-afcc-4d0c-9966-a21079955b60.mp4?Expires=1748401183&OSSAccessKeyId=LTAI5tKPD3TMqf2Lna1fASuh&Signature=VGU1tbFXvF6OFiO8NY%2BTtVHHj6k%3D\n"
     ]
    }
   ],
   "source": [
    "rsp = VideoSynthesis.wait(rsp)\n",
    "if rsp.status_code == HTTPStatus.OK:\n",
    "    print(rsp.output.video_url)\n",
    "else:\n",
    "    print('status_code:', rsp.status_code)\n",
    "    print('code:', rsp.code)\n",
    "    print('message:', rsp.message)"
   ]
  },
  {
   "cell_type": "code",
   "execution_count": 9,
   "id": "6335d04f",
   "metadata": {},
   "outputs": [
    {
     "name": "stdout",
     "output_type": "stream",
     "text": [
      "Video saved as output.mp4\n"
     ]
    }
   ],
   "source": [
    "import requests\n",
    "\n",
    "video_url = rsp.output.video_url\n",
    "video_rsp = requests.get(video_url, stream=True)\n",
    "if video_rsp.status_code == HTTPStatus.OK:\n",
    "    with open('output.mp4', 'wb') as f:\n",
    "        for chunk in video_rsp.iter_content(chunk_size=8192):\n",
    "            f.write(chunk)\n",
    "    print('Video saved as output.mp4')"
   ]
  }
 ],
 "metadata": {
  "kernelspec": {
   "display_name": ".venv",
   "language": "python",
   "name": "python3"
  },
  "language_info": {
   "codemirror_mode": {
    "name": "ipython",
    "version": 3
   },
   "file_extension": ".py",
   "mimetype": "text/x-python",
   "name": "python",
   "nbconvert_exporter": "python",
   "pygments_lexer": "ipython3",
   "version": "3.12.10"
  }
 },
 "nbformat": 4,
 "nbformat_minor": 5
}
