{
 "cells": [
  {
   "cell_type": "code",
   "execution_count": 1,
   "id": "e8f68004",
   "metadata": {},
   "outputs": [],
   "source": [
    "import dashscope\n",
    "from dashscope.audio.tts_v2 import VoiceEnrollmentService, SpeechSynthesizer\n",
    "\n",
    "dashscope.api_key = \"sk-3d290f3199b7407f8b4cd0e543ef8e8c\""
   ]
  },
  {
   "cell_type": "code",
   "execution_count": 2,
   "id": "ca7c644d",
   "metadata": {},
   "outputs": [],
   "source": [
    "voice_url = \"https://act-upload.mihoyo.com/sr-wiki/2025/05/23/75216984/f1e1391d67f272363fc50b304143d9df_8430147719094493716.wav\"\n",
    "prefix = \"hyacine\"\n",
    "target_model = \"cosyvoice-v2\""
   ]
  },
  {
   "cell_type": "code",
   "execution_count": 3,
   "id": "33b4c99c",
   "metadata": {},
   "outputs": [
    {
     "name": "stdout",
     "output_type": "stream",
     "text": [
      "Voice ID:  cosyvoice-v2-hyacine-6c6ebb3e1e3c4fd5830f23f7b5409794\n",
      "Request ID:  2cf40b50-2bb8-9c75-aad4-0216ab72aac5\n"
     ]
    }
   ],
   "source": [
    "service = VoiceEnrollmentService()\n",
    "voice_id = service.create_voice(target_model, prefix, voice_url)\n",
    "print(\"Voice ID: \", voice_id)\n",
    "print(\"Request ID: \", service.get_last_request_id())"
   ]
  },
  {
   "cell_type": "code",
   "execution_count": 4,
   "id": "3e20f38a",
   "metadata": {},
   "outputs": [
    {
     "name": "stdout",
     "output_type": "stream",
     "text": [
      "Request ID:  8bc05da296124fc78bf1c261cd6c142e\n"
     ]
    }
   ],
   "source": [
    "synthesizer = SpeechSynthesizer(model=target_model, voice=voice_id)\n",
    "text = \"\"\"\n",
    "灰宝！\n",
    "让我来猜猜看，你现在看到我的传讯是不是很惊讶~\n",
    "想到天空离这里很远很远，我就提前准备了这条小贴士\n",
    "万一心情不好，记得吃一块我之前准备的小点心\n",
    "（希望没有被吃完，应该是够的！）\n",
    "万一睡不好觉，记得泡一杯我配置好的茶，保证你数不到五只云羊就睡过去啦\n",
    "压力大的时候就揉揉你自己的脸吧，跟小伊卡的肚子一样舒服噢\n",
    "最后，不管发生什么，只允许悲伤一会儿~\n",
    "要多笑一笑，对身体好！\n",
    "↓表情要像这样↓\n",
    "愿我们抵达新世界时，能微笑着相见~\n",
    "\"\"\"\n",
    "audio = synthesizer.call(text)\n",
    "print(\"Request ID: \", synthesizer.get_last_request_id())"
   ]
  },
  {
   "cell_type": "code",
   "execution_count": 5,
   "id": "8435cd02",
   "metadata": {},
   "outputs": [
    {
     "name": "stdout",
     "output_type": "stream",
     "text": [
      "Audio saved as hyacine.wav\n"
     ]
    }
   ],
   "source": [
    "with open(\"hyacine.wav\", \"wb\") as f:\n",
    "    f.write(audio)\n",
    "    print(\"Audio saved as hyacine.wav\")"
   ]
  }
 ],
 "metadata": {
  "kernelspec": {
   "display_name": ".venv",
   "language": "python",
   "name": "python3"
  },
  "language_info": {
   "codemirror_mode": {
    "name": "ipython",
    "version": 3
   },
   "file_extension": ".py",
   "mimetype": "text/x-python",
   "name": "python",
   "nbconvert_exporter": "python",
   "pygments_lexer": "ipython3",
   "version": "3.12.10"
  }
 },
 "nbformat": 4,
 "nbformat_minor": 5
}
