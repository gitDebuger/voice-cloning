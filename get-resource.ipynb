{
 "cells": [
  {
   "cell_type": "code",
   "execution_count": 1,
   "id": "dfcd6eed",
   "metadata": {},
   "outputs": [],
   "source": [
    "import dashscope\n",
    "from dashscope.audio.tts_v2 import VoiceEnrollmentService, SpeechSynthesizer\n",
    "\n",
    "dashscope.api_key = \"sk-3d290f3199b7407f8b4cd0e543ef8e8c\""
   ]
  },
  {
   "cell_type": "code",
   "execution_count": 2,
   "id": "99d9f270",
   "metadata": {},
   "outputs": [
    {
     "name": "stdout",
     "output_type": "stream",
     "text": [
      "cosyvoice-v2-hyacine-6c6ebb3e1e3c4fd5830f23f7b5409794\n",
      "cosyvoice-v2-starrail-63d4d8b041254f14b7698b4578b168d5\n",
      "cosyvoice-v2-starrail-742b045e4d3241d5bf5ec9b9f1b4ee07\n",
      "cosyvoice-v2-starrail-e7bfc2b5ad1c4e7c9ea663a2deafd487\n",
      "cosyvoice-v2-starrail-f12230b0a3c94fdd9b77458248cf8f84\n"
     ]
    }
   ],
   "source": [
    "service = VoiceEnrollmentService()\n",
    "voices = service.list_voices()\n",
    "print(\"\\n\".join([voice['voice_id'] for voice in voices]))"
   ]
  },
  {
   "cell_type": "code",
   "execution_count": 21,
   "id": "bf3d5f61",
   "metadata": {},
   "outputs": [],
   "source": [
    "voice_id = 'cosyvoice-v2-starrail-e7bfc2b5ad1c4e7c9ea663a2deafd487'\n",
    "target_model = 'cosyvoice-v2'\n",
    "synthesizer = SpeechSynthesizer(model=target_model, voice=voice_id)"
   ]
  },
  {
   "cell_type": "code",
   "execution_count": 4,
   "id": "af0e5293",
   "metadata": {},
   "outputs": [],
   "source": [
    "text = \"风堇这段短信没有声音\"\n",
    "audio = synthesizer.call(text)\n",
    "with open(\"./hyacine/audio1.wav\", \"wb\") as f:\n",
    "    f.write(audio)"
   ]
  },
  {
   "cell_type": "code",
   "execution_count": 10,
   "id": "39576eef",
   "metadata": {},
   "outputs": [],
   "source": [
    "text = \"我们使用阿里 CosyVoice 2.0 语音生成大模型为其配上声音\"\n",
    "audio = synthesizer.call(text)\n",
    "with open(\"./hyacine/audio2.wav\", \"wb\") as f:\n",
    "    f.write(audio)"
   ]
  },
  {
   "cell_type": "code",
   "execution_count": 12,
   "id": "ce8880a6",
   "metadata": {},
   "outputs": [],
   "source": [
    "text = \"首先从米游社官网获取音频用于创建音色\"\n",
    "audio = synthesizer.call(text)\n",
    "with open(\"./hyacine/audio3.wav\", \"wb\") as f:\n",
    "    f.write(audio)"
   ]
  },
  {
   "cell_type": "code",
   "execution_count": 14,
   "id": "503d4dfe",
   "metadata": {},
   "outputs": [],
   "source": [
    "text = \"然后编写代码调用模型合成音频\"\n",
    "audio = synthesizer.call(text)\n",
    "with open(\"./hyacine/audio4.wav\", \"wb\") as f:\n",
    "    f.write(audio)"
   ]
  },
  {
   "cell_type": "code",
   "execution_count": 16,
   "id": "42a8ba1e",
   "metadata": {},
   "outputs": [],
   "source": [
    "text = \"第一步导入相关包并填入自己的 API Key\"\n",
    "audio = synthesizer.call(text)\n",
    "with open(\"./hyacine/audio5.wav\", \"wb\") as f:\n",
    "    f.write(audio)"
   ]
  },
  {
   "cell_type": "code",
   "execution_count": 18,
   "id": "4fb7ad8c",
   "metadata": {},
   "outputs": [],
   "source": [
    "text = \"第二步利用刚才在米游社官网获取的音频创建音色\"\n",
    "audio = synthesizer.call(text)\n",
    "with open(\"./hyacine/audio6.wav\", \"wb\") as f:\n",
    "    f.write(audio)"
   ]
  },
  {
   "cell_type": "code",
   "execution_count": 20,
   "id": "7b379c75",
   "metadata": {},
   "outputs": [],
   "source": [
    "text = \"最后调用模型为文本合成音频并保存到本地\"\n",
    "audio = synthesizer.call(text)\n",
    "with open(\"./hyacine/audio7.wav\", \"wb\") as f:\n",
    "    f.write(audio)"
   ]
  },
  {
   "cell_type": "code",
   "execution_count": 22,
   "id": "8539e056",
   "metadata": {},
   "outputs": [],
   "source": [
    "text = \"一起来听听合成的效果吧！\"\n",
    "audio = synthesizer.call(text)\n",
    "with open(\"./hyacine/audio8.wav\", \"wb\") as f:\n",
    "    f.write(audio)"
   ]
  }
 ],
 "metadata": {
  "kernelspec": {
   "display_name": ".venv",
   "language": "python",
   "name": "python3"
  },
  "language_info": {
   "codemirror_mode": {
    "name": "ipython",
    "version": 3
   },
   "file_extension": ".py",
   "mimetype": "text/x-python",
   "name": "python",
   "nbconvert_exporter": "python",
   "pygments_lexer": "ipython3",
   "version": "3.12.10"
  }
 },
 "nbformat": 4,
 "nbformat_minor": 5
}
